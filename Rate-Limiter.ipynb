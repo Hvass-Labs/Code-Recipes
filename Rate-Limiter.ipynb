{
 "cells": [
  {
   "attachments": {},
   "cell_type": "markdown",
   "metadata": {},
   "source": [
    "## The \"Wait-Until\" Rate-Limiter - Code Recipe\n",
    "\n",
    "[Original repository on GitHub](https://github.com/Hvass-Labs/Code-Recipes)\n",
    "\n",
    "Original author is [Magnus Erik Hvass Pedersen](http://www.hvass-labs.org/)"
   ]
  },
  {
   "attachments": {},
   "cell_type": "markdown",
   "metadata": {},
   "source": [
    "## Introduction\n",
    "\n",
    "Rate-limiters are used to throttle events that are too rapid e.g. to prevent attacks on web-servers. The method presented here is simple and efficient. It maintains a \"wait-until\" time-stamp that gets incremented whenever the rate-limiter is being called (or \"hit\"). It can then either sleep the CPU for the required waiting-time, or raise an error if too many hits have accumulated. This is a good way of rate-limiting in multi-threaded and distributed environments, as it just requires an atomic update to the \"wait-until\" time-stamp.\n",
    "\n",
    "The algorithm is apparently new, so let us call it the \"wait-until\" rate-limiter. It bears some similarity to the \"leaking-bucket\" algorithm as it also ensures a steady flow, but it doesn't explicitly require a queue in its implementation. It can also allow bursts simply by not sleeping the CPU, and just raise an error when too many hits have accumulated.\n",
    "\n",
    "The algorithm is first demonstrated using basic Python, and then using MongoDB for saving and updating the \"wait-until\" time-stamp."
   ]
  },
  {
   "attachments": {},
   "cell_type": "markdown",
   "metadata": {},
   "source": [
    "## Imports"
   ]
  },
  {
   "cell_type": "code",
   "execution_count": 1,
   "metadata": {},
   "outputs": [],
   "source": [
    "import time\n",
    "from datetime import datetime, timedelta"
   ]
  },
  {
   "cell_type": "markdown",
   "metadata": {},
   "source": [
    "## Python Code"
   ]
  },
  {
   "cell_type": "code",
   "execution_count": 2,
   "metadata": {},
   "outputs": [],
   "source": [
    "# Number of seconds to wait between two successive hits.\n",
    "seconds = 1\n",
    "\n",
    "# Number of seconds to accumulate before raising exception.\n",
    "seconds_raise = 5\n",
    "\n",
    "# Max number of seconds to wait.\n",
    "seconds_limit = 10\n",
    "\n",
    "# Convert to timedelta.\n",
    "td_seconds = timedelta(seconds=seconds)\n",
    "td_seconds_limit = timedelta(seconds=seconds_limit)\n",
    "\n",
    "# Init \"wait-until\" time-stamp to sometime in the past.\n",
    "# This would normally be saved in a database (see example further below).\n",
    "_wait_until = datetime.utcnow() - timedelta(days=1)"
   ]
  },
  {
   "cell_type": "code",
   "execution_count": 3,
   "metadata": {},
   "outputs": [],
   "source": [
    "def rate_limit():\n",
    "    \"\"\"\n",
    "    Hit a rate-limiter and determine whether waiting is required. Successive\n",
    "    calls (or \"hits\") to this function will increase the required waiting-time.\n",
    "    \"\"\"\n",
    "    global _wait_until\n",
    "\n",
    "    # Time-stamp for now.\n",
    "    time_now = datetime.utcnow()\n",
    "\n",
    "    # Time-stamp for the next wait-until, if not accumulating.\n",
    "    time_wait_until = time_now + td_seconds\n",
    "\n",
    "    # Time-stamp for the max allowed wait.\n",
    "    time_limit = time_now + td_seconds_limit\n",
    "\n",
    "    # Number of seconds to wait. Important to calculate this before update!\n",
    "    wait_seconds = (_wait_until - time_now).total_seconds()\n",
    "\n",
    "    print(f'Wait seconds: {wait_seconds:.2f}', end=' - ')\n",
    "\n",
    "    # Update the saved \"wait-until\" time-stamp.\n",
    "    # WARNING: This must be atomic to avoid race-conditions in multi-threading.\n",
    "    _wait_until = min(time_limit, max(_wait_until + td_seconds, time_wait_until))\n",
    "\n",
    "    # Raise exception if too many hits have accumulated.\n",
    "    if wait_seconds > seconds_raise:\n",
    "        print('raise error!')\n",
    "        # raise RuntimeError()\n",
    "        return\n",
    "\n",
    "    # Sleep the CPU thread?\n",
    "    if wait_seconds > 0:\n",
    "        print('sleep.')\n",
    "        # You can allow bursts by not sleeping here.\n",
    "        # sleep(wait_seconds)\n",
    "    else:\n",
    "        print('proceed.')"
   ]
  },
  {
   "cell_type": "code",
   "execution_count": 4,
   "metadata": {},
   "outputs": [
    {
     "name": "stdout",
     "output_type": "stream",
     "text": [
      "Wait seconds: -86400.98 - proceed.\n",
      "Wait seconds: -0.01 - proceed.\n",
      "Wait seconds: -0.01 - proceed.\n"
     ]
    }
   ],
   "source": [
    "# Simulate hits to the rate-limiter that don't have to wait.\n",
    "for i in range(3):\n",
    "    rate_limit()\n",
    "    time.sleep(seconds*1.01)"
   ]
  },
  {
   "cell_type": "code",
   "execution_count": 5,
   "metadata": {},
   "outputs": [
    {
     "name": "stdout",
     "output_type": "stream",
     "text": [
      "Wait seconds: -0.02 - proceed.\n",
      "Wait seconds: 1.00 - sleep.\n",
      "Wait seconds: 2.00 - sleep.\n",
      "Wait seconds: 3.00 - sleep.\n",
      "Wait seconds: 4.00 - sleep.\n",
      "Wait seconds: 5.00 - sleep.\n",
      "Wait seconds: 6.00 - raise error!\n",
      "Wait seconds: 7.00 - raise error!\n",
      "Wait seconds: 8.00 - raise error!\n",
      "Wait seconds: 9.00 - raise error!\n"
     ]
    }
   ],
   "source": [
    "# Simulate hits to the rate-limiter that will sleep and raise errors.\n",
    "for i in range(10):\n",
    "    rate_limit()"
   ]
  },
  {
   "attachments": {},
   "cell_type": "markdown",
   "metadata": {},
   "source": [
    "## MongoDB Code\n",
    "\n",
    "The following code shows how to implement the \"wait-until\" rate-limiter using MongoDB to save and update the time-stamps. This code assumes you have MongoDB and pymongo installed. The code may also need some modification for your particular environment. On my local computer this adds around 1 milli-sec of overhead, which is plenty fast for my use-cases, but if you need more speed then you will have to use a faster data-storage that also supports atomic updates with simple math operations."
   ]
  },
  {
   "cell_type": "code",
   "execution_count": null,
   "metadata": {},
   "outputs": [],
   "source": [
    "import pymongo as pm\n",
    "\n",
    "# MongoDB constants.\n",
    "RETURN_BEFORE = pm.collection.ReturnDocument.BEFORE\n",
    "\n",
    "# Open database connection.\n",
    "client = pm.MongoClient(host='mongodb://localhost:27017/')\n",
    "db = client['my_db']\n",
    "\n",
    "# Database collection for rate-limiters.\n",
    "col = db['rate_limit']\n",
    "\n",
    "# Create indexes.\n",
    "col.create_index('key', unique=True)\n",
    "col.create_index('wait_until')"
   ]
  },
  {
   "cell_type": "code",
   "execution_count": null,
   "metadata": {},
   "outputs": [],
   "source": [
    "def delete_old():\n",
    "    \"\"\"\n",
    "    Delete all rate-limiters in the database that are no longer active.\n",
    "\n",
    "    This could be run e.g. every hour in a cron-script to keep database small.\n",
    "    \n",
    "    :return: Int with the number of documents deleted.\n",
    "    \"\"\"\n",
    "    # Database filter for matching old / expired rate-limiters.\n",
    "    filter = { 'wait_until': {'$lt': datetime.utcnow()} }\n",
    "    \n",
    "    # Delete all matching docs from database.\n",
    "    return col.delete_many(filter=filter)"
   ]
  },
  {
   "cell_type": "code",
   "execution_count": null,
   "metadata": {},
   "outputs": [],
   "source": [
    "def rate_limit_mongodb(key, seconds_wait, seconds_raise=None,\n",
    "                       seconds_limit=None, sleep=False):\n",
    "    \"\"\"\n",
    "    Hit a rate-limiter and determine whether waiting is required. Successive\n",
    "    calls (or \"hits\") to this function will increase the required waiting-time.\n",
    "\n",
    "    This uses MongoDB to save the \"wait-until\" time-stamp.\n",
    "    \n",
    "    Time-usage for this function is about 1 milli-sec.\n",
    "\n",
    "    :param key:\n",
    "        String with a unique ID for the rate-limiter.\n",
    "\n",
    "    :param seconds_wait:\n",
    "        Float with number of seconds to wait between two successive hits.\n",
    "\n",
    "    :param seconds_raise:\n",
    "        Float with number of seconds to accumulate before raising exception.\n",
    "        If `None` then exception will not be raised.\n",
    "\n",
    "    :param seconds_limit:\n",
    "        Float with max number of seconds to wait.\n",
    "        If `None` then set it to equal `seconds_wait`.\n",
    "\n",
    "    :param sleep:\n",
    "        Boolean whether to sleep CPU thread if waiting is required.\n",
    "        You can allow bursts by not sleeping and just raise errors.\n",
    "    \n",
    "    :return:\n",
    "        Boolean whether waiting is required.\n",
    "    \"\"\"\n",
    "    # Database filter.\n",
    "    filter = { 'key': key }\n",
    "    \n",
    "    # Time-stamp for now.\n",
    "    time_now = datetime.utcnow()\n",
    "    \n",
    "    # Time-stamp for the next wait-until, if not accumulating.\n",
    "    time_wait_until = time_now + timedelta(seconds=seconds_wait)\n",
    "    \n",
    "    # Time-stamp for the max allowed wait.\n",
    "    if seconds_limit is None:\n",
    "        # Use seconds_wait again.\n",
    "        time_limit = time_wait_until\n",
    "    else:\n",
    "        # Use seconds_limit.\n",
    "        time_limit = time_now + timedelta(seconds=seconds_limit)\n",
    "\n",
    "    # Wrong update-rule which does not accumulate the wait-time, so it doesn't\n",
    "    # actually delay N rapid requests by N * seconds_wait, but only delays them\n",
    "    # by a total of seconds_wait.\n",
    "    # update = {'$set': filter | {'wait_until': time_wait_until}}\n",
    "\n",
    "    # Update-rule which accumulates the wait-time correctly. It is basically:\n",
    "    # doc['wait_until'] = min(time_limit, max(time_wait_until,\n",
    "    #                         doc['wait_until'] + seconds_wait))\n",
    "    update_time_add = \\\n",
    "        {'$dateAdd': {'startDate': '$wait_until',\n",
    "                      'unit': 'second', 'amount': seconds_wait}}\n",
    "    update_time_max = {'$max': [update_time_add, time_wait_until]}\n",
    "    update_wait_until = {'$min': [time_limit, update_time_max]}\n",
    "\n",
    "    # Database update-rule. This must be a pipeline / list to work correctly.\n",
    "    update = [{'$set': filter},\n",
    "              {'$set': {'wait_until': update_wait_until}}]\n",
    "\n",
    "    # Find and update document. Insert new doc if it doesn't exist.\n",
    "    # It is important to return the document BEFORE it was updated.\n",
    "    doc = col.find_one_and_update(filter=filter, update=update,\n",
    "                                  return_document=RETURN_BEFORE, upsert=True)\n",
    "\n",
    "    # Did the document already exist?\n",
    "    if doc is not None:\n",
    "        # Number of seconds to wait.\n",
    "        wait_seconds = (doc['wait_until'] - time_now).total_seconds()\n",
    "\n",
    "        # Raise exception if too many hits have accumulated.\n",
    "        if seconds_raise is not None and wait_seconds >= seconds_raise:\n",
    "            raise RuntimeError('Rate-limiter.')\n",
    "\n",
    "        # Boolean whether waiting is required.\n",
    "        must_wait = (wait_seconds >= 0)\n",
    "        \n",
    "        # Sleep the CPU thread?\n",
    "        if must_wait and sleep:\n",
    "            time.sleep(wait_seconds)\n",
    "    else:\n",
    "        # Waiting is not required.\n",
    "        must_wait = False\n",
    "\n",
    "    return must_wait"
   ]
  },
  {
   "cell_type": "code",
   "execution_count": null,
   "metadata": {},
   "outputs": [],
   "source": [
    "# Test the rate-limiter.\n",
    "for i in range(10):\n",
    "    rate_limit_mongodb(key='some_unique_id', seconds_wait=5,\n",
    "                       seconds_raise=30, seconds_limit=120, sleep=True)"
   ]
  },
  {
   "attachments": {},
   "cell_type": "markdown",
   "metadata": {},
   "source": [
    "## License (MIT)\n",
    "\n",
    "This is published under the [MIT License](https://github.com/Hvass-Labs/Code-Recipes/blob/main/LICENSE) which allows very broad use for both academic and commercial purposes.\n",
    "\n",
    "You are very welcome to modify and use this source-code in your own project. Please keep a link to the [original repository](https://github.com/Hvass-Labs/Code-Recipes)."
   ]
  }
 ],
 "metadata": {
  "kernelspec": {
   "display_name": "code-recipes",
   "language": "python",
   "name": "python3"
  },
  "language_info": {
   "codemirror_mode": {
    "name": "ipython",
    "version": 3
   },
   "file_extension": ".py",
   "mimetype": "text/x-python",
   "name": "python",
   "nbconvert_exporter": "python",
   "pygments_lexer": "ipython3",
   "version": "3.9.12"
  },
  "orig_nbformat": 4
 },
 "nbformat": 4,
 "nbformat_minor": 2
}
